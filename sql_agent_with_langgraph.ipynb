{
 "cells": [
  {
   "cell_type": "code",
   "execution_count": 40,
   "metadata": {},
   "outputs": [],
   "source": [
    "import sqlite3"
   ]
  },
  {
   "cell_type": "code",
   "execution_count": 41,
   "metadata": {},
   "outputs": [],
   "source": [
    "connection = sqlite3.connect(\"mydb.db\")"
   ]
  },
  {
   "cell_type": "code",
   "execution_count": 42,
   "metadata": {},
   "outputs": [
    {
     "data": {
      "text/plain": [
       "<sqlite3.Connection at 0x10da2f5b0>"
      ]
     },
     "execution_count": 42,
     "metadata": {},
     "output_type": "execute_result"
    }
   ],
   "source": [
    "connection"
   ]
  },
  {
   "cell_type": "code",
   "execution_count": 43,
   "metadata": {},
   "outputs": [],
   "source": [
    "table_creation_query = \"\"\"\n",
    "CREATE TABLE IF NOT EXISTS employees (\n",
    "    emp_id INTEGER PRIMARY KEY,\n",
    "    first_name TEXT NOT NULL,\n",
    "    last_name TEXT NOT NULL,\n",
    "    email TEXT UNIQUE NOT NULL,\n",
    "    hire_date TEXT NOT NULL,\n",
    "    salary REAL NOT NULL\n",
    ");\n",
    "\"\"\""
   ]
  },
  {
   "cell_type": "code",
   "execution_count": 44,
   "metadata": {},
   "outputs": [],
   "source": [
    "table_creation_query2 = \"\"\"\n",
    "CREATE TABLE IF NOT EXISTS customers (\n",
    "    customer_id INTEGER PRIMARY KEY AUTOINCREMENT,\n",
    "    first_name TEXT NOT NULL,\n",
    "    last_name TEXT NOT NULL,\n",
    "    email TEXT UNIQUE NOT NULL,\n",
    "    phone TEXT\n",
    ");\n",
    "\"\"\""
   ]
  },
  {
   "cell_type": "code",
   "execution_count": 45,
   "metadata": {},
   "outputs": [],
   "source": [
    "table_creation_query3 = \"\"\"\n",
    "CREATE TABLE IF NOT EXISTS orders (\n",
    "    order_id INTEGER PRIMARY KEY AUTOINCREMENT,\n",
    "    customer_id INTEGER NOT NULL,\n",
    "    order_date TEXT NOT NULL,\n",
    "    amount REAL NOT NULL,\n",
    "    FOREIGN KEY (customer_id) REFERENCES customers (customer_id)\n",
    ");\n",
    "\n",
    "\"\"\""
   ]
  },
  {
   "cell_type": "code",
   "execution_count": 46,
   "metadata": {},
   "outputs": [],
   "source": [
    "cursor = connection.cursor()"
   ]
  },
  {
   "cell_type": "code",
   "execution_count": 47,
   "metadata": {},
   "outputs": [
    {
     "data": {
      "text/plain": [
       "<sqlite3.Cursor at 0x10db7bb40>"
      ]
     },
     "execution_count": 47,
     "metadata": {},
     "output_type": "execute_result"
    }
   ],
   "source": [
    "cursor.execute(table_creation_query)\n",
    "cursor.execute(table_creation_query2)\n",
    "cursor.execute(table_creation_query3)"
   ]
  },
  {
   "cell_type": "code",
   "execution_count": 48,
   "metadata": {},
   "outputs": [],
   "source": [
    "insert_query = \"\"\"\n",
    "INSERT INTO employees (emp_id, first_name, last_name, email, hire_date, salary)\n",
    "VALUES (?, ?, ?, ?, ?, ?);\n",
    "\"\"\"\n",
    "\n",
    "insert_query_customers = \"\"\"\n",
    "INSERT INTO customers (customer_id, first_name, last_name, email, phone)\n",
    "VALUES (?, ?, ?, ?, ?);\n",
    "\"\"\"\n",
    "\n",
    "insert_query_orders = \"\"\"\n",
    "INSERT INTO orders (order_id, customer_id, order_date, amount)\n",
    "VALUES (?, ?, ?, ?);\n",
    "\"\"\""
   ]
  },
  {
   "cell_type": "code",
   "execution_count": 49,
   "metadata": {},
   "outputs": [],
   "source": [
    "employee_data = [\n",
    "    (1, \"Sunny\", \"Savita\", \"sunny.sv@abc.com\", \"2023-06-01\", 50000.00),\n",
    "    (2, \"Arhun\", \"Meheta\", \"arhun.m@gmail.com\", \"2022-04-15\", 60000.00),\n",
    "    (3, \"Alice\", \"Johnson\", \"alice.johnson@jpg.com\", \"2021-09-30\", 55000.00),\n",
    "    (4, \"Bob\", \"Brown\", \"bob.brown@uio.com\", \"2020-01-20\", 45000.00),\n",
    "]\n",
    "\n",
    "customers_data = [\n",
    "    (1, \"John\", \"Doe\", \"john.doe@example.com\", \"1234567890\"),\n",
    "    (2, \"Jane\", \"Smith\", \"jane.smith@example.com\", \"9876543210\"),\n",
    "    (3, \"Emily\", \"Davis\", \"emily.davis@example.com\", \"4567891230\"),\n",
    "    (4, \"Michael\", \"Brown\", \"michael.brown@example.com\", \"7894561230\"),\n",
    "]\n",
    "\n",
    "orders_data = [\n",
    "    (1, 1, \"2023-12-01\", 250.75),\n",
    "    (2, 2, \"2023-11-20\", 150.50),\n",
    "    (3, 3, \"2023-11-25\", 300.00),\n",
    "    (4, 4, \"2023-12-02\", 450.00),\n",
    "]"
   ]
  },
  {
   "cell_type": "code",
   "execution_count": 50,
   "metadata": {},
   "outputs": [],
   "source": [
    "# cursor.executemany(insert_query, employee_data)\n",
    "# cursor.executemany(insert_query_customers, customers_data)\n",
    "# cursor.executemany(insert_query_orders, orders_data)"
   ]
  },
  {
   "cell_type": "code",
   "execution_count": 51,
   "metadata": {},
   "outputs": [],
   "source": [
    "connection.commit()"
   ]
  },
  {
   "cell_type": "code",
   "execution_count": 52,
   "metadata": {},
   "outputs": [
    {
     "data": {
      "text/plain": [
       "<sqlite3.Cursor at 0x10db7bb40>"
      ]
     },
     "execution_count": 52,
     "metadata": {},
     "output_type": "execute_result"
    }
   ],
   "source": [
    "cursor.execute(\"select * from orders;\")"
   ]
  },
  {
   "cell_type": "code",
   "execution_count": 53,
   "metadata": {},
   "outputs": [
    {
     "name": "stdout",
     "output_type": "stream",
     "text": [
      "(1, 1, '2023-12-01', 250.75)\n",
      "(2, 2, '2023-11-20', 150.5)\n",
      "(3, 3, '2023-11-25', 300.0)\n",
      "(4, 4, '2023-12-02', 450.0)\n"
     ]
    }
   ],
   "source": [
    "for row in cursor.fetchall():\n",
    "    print(row)"
   ]
  }
 ],
 "metadata": {
  "kernelspec": {
   "display_name": ".venv",
   "language": "python",
   "name": "python3"
  },
  "language_info": {
   "codemirror_mode": {
    "name": "ipython",
    "version": 3
   },
   "file_extension": ".py",
   "mimetype": "text/x-python",
   "name": "python",
   "nbconvert_exporter": "python",
   "pygments_lexer": "ipython3",
   "version": "3.12.1"
  }
 },
 "nbformat": 4,
 "nbformat_minor": 2
}
